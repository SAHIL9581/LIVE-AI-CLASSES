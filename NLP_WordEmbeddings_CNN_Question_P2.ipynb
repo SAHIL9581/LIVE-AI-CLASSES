{
  "nbformat": 4,
  "nbformat_minor": 0,
  "metadata": {
    "colab": {
      "provenance": [],
      "gpuType": "T4",
      "authorship_tag": "ABX9TyM+qoZBmlwlcNnEwhci4KpX",
      "include_colab_link": true
    },
    "kernelspec": {
      "name": "python3",
      "display_name": "Python 3"
    },
    "language_info": {
      "name": "python"
    },
    "accelerator": "GPU"
  },
  "cells": [
    {
      "cell_type": "markdown",
      "metadata": {
        "id": "view-in-github",
        "colab_type": "text"
      },
      "source": [
        "<a href=\"https://colab.research.google.com/github/SAHIL9581/LIVE-AI-CLASSES/blob/main/NLP_WordEmbeddings_CNN_Question_P2.ipynb\" target=\"_parent\"><img src=\"https://colab.research.google.com/assets/colab-badge.svg\" alt=\"Open In Colab\"/></a>"
      ]
    },
    {
      "cell_type": "code",
      "source": [
        "# Import Python libraries and helper functions (in utils2)\n",
        "import nltk\n",
        "from nltk.tokenize import word_tokenize\n",
        "import numpy as np\n",
        "from collections import Counter\n",
        "import sys\n",
        "sys.path.append(\"/content/utils2.py\")"
      ],
      "metadata": {
        "id": "i7LPaz62gZGy"
      },
      "execution_count": 1,
      "outputs": []
    },
    {
      "cell_type": "code",
      "source": [
        "from utils2 import get_dict"
      ],
      "metadata": {
        "id": "zQ2WUIbo5U04"
      },
      "execution_count": 2,
      "outputs": []
    },
    {
      "cell_type": "code",
      "source": [
        "from utils2 import get_batches"
      ],
      "metadata": {
        "id": "LXglxUxY5fCP"
      },
      "execution_count": 3,
      "outputs": []
    },
    {
      "cell_type": "code",
      "source": [
        "from utils2 import compute_pca"
      ],
      "metadata": {
        "id": "xZba4ggR5rXB"
      },
      "execution_count": 4,
      "outputs": []
    },
    {
      "cell_type": "code",
      "source": [
        "from utils2 import sigmoid"
      ],
      "metadata": {
        "id": "HZp905Yc5y1Z"
      },
      "execution_count": 5,
      "outputs": []
    },
    {
      "cell_type": "code",
      "source": [
        "# Download sentence tokenizer\n",
        "nltk.data.path.append('.')"
      ],
      "metadata": {
        "id": "B4Z5oZNBN9eM"
      },
      "execution_count": 6,
      "outputs": []
    },
    {
      "cell_type": "code",
      "source": [
        "import nltk\n",
        "nltk.download('punkt')\n"
      ],
      "metadata": {
        "colab": {
          "base_uri": "https://localhost:8080/"
        },
        "id": "dMynqJje6JGa",
        "outputId": "fc2aec5a-025b-42ef-b193-cf80e411ac46"
      },
      "execution_count": 8,
      "outputs": [
        {
          "output_type": "stream",
          "name": "stderr",
          "text": [
            "[nltk_data] Downloading package punkt to /root/nltk_data...\n",
            "[nltk_data]   Package punkt is already up-to-date!\n"
          ]
        },
        {
          "output_type": "execute_result",
          "data": {
            "text/plain": [
              "True"
            ]
          },
          "metadata": {},
          "execution_count": 8
        }
      ]
    },
    {
      "cell_type": "code",
      "source": [
        "import re\n",
        "import nltk\n",
        "\n",
        "# Download necessary NLTK data\n",
        "nltk.download('punkt')\n",
        "nltk.download('punkt_tab')\n",
        "\n",
        "with open('shakespeare.txt', 'r') as f:\n",
        "    data = f.read()\n",
        "data = re.sub(r'[,!?;-]', '.', data)\n",
        "data = nltk.word_tokenize(data)\n",
        "cleaned_data = []\n",
        "for word in data:\n",
        "    if word.isalpha():\n",
        "        cleaned_data.append(word.lower())\n",
        "print(\"Number of tokens:\", len(cleaned_data))\n",
        "print(\"First 15 tokens:\", cleaned_data[:15])\n",
        "\n"
      ],
      "metadata": {
        "id": "taF4PWnWOcxB",
        "colab": {
          "base_uri": "https://localhost:8080/"
        },
        "outputId": "2d5b5fae-1a94-4590-818e-38988d493f92"
      },
      "execution_count": 11,
      "outputs": [
        {
          "output_type": "stream",
          "name": "stderr",
          "text": [
            "[nltk_data] Downloading package punkt to /root/nltk_data...\n",
            "[nltk_data]   Package punkt is already up-to-date!\n",
            "[nltk_data] Downloading package punkt_tab to /root/nltk_data...\n",
            "[nltk_data]   Unzipping tokenizers/punkt_tab.zip.\n"
          ]
        },
        {
          "output_type": "stream",
          "name": "stdout",
          "text": [
            "Number of tokens: 17395\n",
            "First 15 tokens: ['the', 'sonnets', 'by', 'william', 'shakespeare', 'from', 'fairest', 'creatures', 'we', 'desire', 'increase', 'that', 'thereby', 'beauty', 'rose']\n"
          ]
        }
      ]
    },
    {
      "cell_type": "code",
      "source": [
        "fdist = nltk.FreqDist(word for word in data)\n",
        "print(\"Size of vocabulary: \", len(fdist))\n",
        "print(\"Most frequent tokens: \", fdist.most_common(20))\n"
      ],
      "metadata": {
        "id": "FDHJLtfWO8zh",
        "colab": {
          "base_uri": "https://localhost:8080/"
        },
        "outputId": "89bf94a7-bc4f-4d62-967d-0a182ea375c7"
      },
      "execution_count": 12,
      "outputs": [
        {
          "output_type": "stream",
          "name": "stdout",
          "text": [
            "Size of vocabulary:  3436\n",
            "Most frequent tokens:  [('.', 2413), ('my', 361), ('the', 355), ('of', 349), ('I', 349), ('to', 330), ('in', 287), ('thy', 258), ('and', 248), ('And', 242), ('that', 239), ('thou', 209), (\"'s\", 202), ('love', 176), ('is', 170), ('not', 166), ('with', 163), ('me', 162), ('thee', 161), (':', 160)]\n"
          ]
        }
      ]
    },
    {
      "cell_type": "code",
      "source": [
        "word2Ind, Ind2word = get_dict(data)\n",
        "V = len(word2Ind)\n",
        "print(\"Size of vocabulary: \", V)\n"
      ],
      "metadata": {
        "id": "F9r7lZk6PRDx",
        "colab": {
          "base_uri": "https://localhost:8080/"
        },
        "outputId": "0d80bfc4-fb06-443b-8293-4707bbae7f40"
      },
      "execution_count": 13,
      "outputs": [
        {
          "output_type": "stream",
          "name": "stdout",
          "text": [
            "Size of vocabulary:  3436\n"
          ]
        }
      ]
    },
    {
      "cell_type": "code",
      "source": [
        "print(\"Index of the word 'king': \", word2Ind['king'])\n",
        "print(\"Index of the word 'queen': \", word2Ind['queen'])\n",
        "print(\"Word which has index 2743: \", Ind2word[2743])\n"
      ],
      "metadata": {
        "id": "EJ7zSBZEPSjS",
        "colab": {
          "base_uri": "https://localhost:8080/"
        },
        "outputId": "75d57788-f4a4-4896-a5c1-d2b57f5c342e"
      },
      "execution_count": 14,
      "outputs": [
        {
          "output_type": "stream",
          "name": "stdout",
          "text": [
            "Index of the word 'king':  1819\n",
            "Index of the word 'queen':  2413\n",
            "Word which has index 2743:  small\n"
          ]
        }
      ]
    }
  ]
}