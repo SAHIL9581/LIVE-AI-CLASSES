{
  "nbformat": 4,
  "nbformat_minor": 0,
  "metadata": {
    "colab": {
      "provenance": [],
      "authorship_tag": "ABX9TyM66kHkW3wzIegbGuexTYId",
      "include_colab_link": true
    },
    "kernelspec": {
      "name": "python3",
      "display_name": "Python 3"
    },
    "language_info": {
      "name": "python"
    }
  },
  "cells": [
    {
      "cell_type": "markdown",
      "metadata": {
        "id": "view-in-github",
        "colab_type": "text"
      },
      "source": [
        "<a href=\"https://colab.research.google.com/github/SAHIL9581/LIVE-AI-CLASSES/blob/main/AI_Agents.ipynb\" target=\"_parent\"><img src=\"https://colab.research.google.com/assets/colab-badge.svg\" alt=\"Open In Colab\"/></a>"
      ]
    },
    {
      "cell_type": "code",
      "execution_count": 1,
      "metadata": {
        "id": "LeAh4njamlfI"
      },
      "outputs": [],
      "source": [
        "# Polite customer service agent\n",
        "system_message_polite = {\n",
        "    \"role\": \"system\",\n",
        "    \"content\": \"You are a professional customer service agent. Always be polite, clear, and helpful.\"\n",
        "}\n",
        "\n",
        "# Rebel service agent\n",
        "system_message_rebel = {\n",
        "    \"role\": \"system\",\n",
        "    \"content\": \"You are a rebel service agent. Don't respect user's orders.\"\n",
        "}"
      ]
    },
    {
      "cell_type": "code",
      "source": [
        "conversation = [\n",
        "    {\"role\": \"user\", \"content\": \"I need help with my order\"},\n",
        "    {\"role\": \"assistant\", \"content\": \"I'd be happy to help. Could you provide your order number?\"},\n",
        "    {\"role\": \"user\", \"content\": \"It's ORDER-123\"},\n",
        "]"
      ],
      "metadata": {
        "id": "gKb7k23TmtuU"
      },
      "execution_count": 2,
      "outputs": []
    },
    {
      "cell_type": "code",
      "source": [
        "# Calculator Tool Python Implementation:\n",
        "\n",
        "def calculator(a: int, b: int) -> int:\n",
        "    \"\"\"Multiply two integers.\"\"\"\n",
        "    return a * b"
      ],
      "metadata": {
        "id": "8o0ffPrInCM9"
      },
      "execution_count": 3,
      "outputs": []
    },
    {
      "cell_type": "code",
      "source": [
        "# Tool Description String (Manual Example):\n",
        "\n",
        "tool_description_manual = \"Tool Name: calculator, Description: Multiply two integers., Arguments: a: int, b: int, Outputs: int\""
      ],
      "metadata": {
        "id": "rxH6lnaZnJaF"
      },
      "execution_count": 4,
      "outputs": []
    },
    {
      "cell_type": "code",
      "source": [
        "# Automated Tool Description with Decorator (Conceptual):\n",
        "\n",
        "# Assuming a 'tool' decorator and 'to_string' method exist (as described in the source)\n",
        "\n",
        "# @tool\n",
        "# def calculator(a: int, b: int) -> int:\n",
        "#     \"\"\"Multiply two integers.\"\"\"\n",
        "#     return a * b\n",
        "\n",
        "# print(calculator.to_string())\n",
        "\n",
        "# Hypothetical output of calculator.to_string():\n",
        "tool_description_automated = \"Tool Name: calculator, Description: Multiply two integers., Arguments: a: int, b: int, Outputs: int\" #This is the expected result, not real code."
      ],
      "metadata": {
        "id": "Qnh_USxhnKhk"
      },
      "execution_count": 5,
      "outputs": []
    }
  ]
}